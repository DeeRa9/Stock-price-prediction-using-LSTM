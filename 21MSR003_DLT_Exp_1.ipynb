{
  "cells": [
    {
      "cell_type": "markdown",
      "source": [
        "***Exp-1: IMPLEMENTATION OF LINEAR REGRESSION TECHNIQUE***"
      ],
      "metadata": {
        "id": "8K0hLff2TihF"
      }
    },
    {
      "cell_type": "markdown",
      "metadata": {
        "id": "i0eGPkei6m-b"
      },
      "source": [
        "Import necessary libraries"
      ]
    },
    {
      "cell_type": "code",
      "execution_count": null,
      "metadata": {
        "id": "pLC71oaLD9US"
      },
      "outputs": [],
      "source": [
        "# Import necessary Libraries\n",
        "import numpy as np\n",
        "import pandas as pd\n",
        "import matplotlib.pyplot as plt\n",
        "import seaborn as sns\n",
        "from sklearn.metrics import r2_score, mean_squared_error"
      ]
    },
    {
      "cell_type": "markdown",
      "metadata": {
        "id": "E48ejWYU6xKy"
      },
      "source": [
        "Upload the dataset"
      ]
    },
    {
      "cell_type": "code",
      "execution_count": null,
      "metadata": {
        "colab": {
          "base_uri": "https://localhost:8080/",
          "height": 73,
          "resources": {
            "http://localhost:8080/nbextensions/google.colab/files.js": {
              "data": "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",
              "ok": true,
              "headers": [
                [
                  "content-type",
                  "application/javascript"
                ]
              ],
              "status": 200,
              "status_text": "OK"
            }
          }
        },
        "id": "qSmzBSRxEGFD",
        "outputId": "4f50e232-27c1-4c6f-91d4-e02a6cb97938"
      },
      "outputs": [
        {
          "output_type": "display_data",
          "data": {
            "text/plain": [
              "<IPython.core.display.HTML object>"
            ],
            "text/html": [
              "\n",
              "     <input type=\"file\" id=\"files-011a4801-c8b5-4b75-950e-89e951450165\" name=\"files[]\" multiple disabled\n",
              "        style=\"border:none\" />\n",
              "     <output id=\"result-011a4801-c8b5-4b75-950e-89e951450165\">\n",
              "      Upload widget is only available when the cell has been executed in the\n",
              "      current browser session. Please rerun this cell to enable.\n",
              "      </output>\n",
              "      <script src=\"/nbextensions/google.colab/files.js\"></script> "
            ]
          },
          "metadata": {}
        },
        {
          "output_type": "stream",
          "name": "stdout",
          "text": [
            "Saving winequality-red1.xlsx to winequality-red1.xlsx\n"
          ]
        }
      ],
      "source": [
        "# Read Data\n",
        "from google.colab import files\n",
        "dataset=files.upload()"
      ]
    },
    {
      "cell_type": "markdown",
      "metadata": {
        "id": "e405fxoD67Lx"
      },
      "source": [
        "Convert the dataset into a dataframe"
      ]
    },
    {
      "cell_type": "code",
      "execution_count": null,
      "metadata": {
        "colab": {
          "base_uri": "https://localhost:8080/"
        },
        "id": "r1DwwMp3aPBj",
        "outputId": "2b67c441-8272-419a-c5f3-99bc796dcf3e"
      },
      "outputs": [
        {
          "name": "stdout",
          "output_type": "stream",
          "text": [
            "      fixed acidity  volatile acidity  citric acid  residual sugar  chlorides  \\\n",
            "0               7.4             0.700         0.00             1.9      0.076   \n",
            "1               7.8             0.880         0.00             2.6      0.098   \n",
            "2               7.8             0.760         0.04             2.3      0.092   \n",
            "3              11.2             0.280         0.56             1.9      0.075   \n",
            "4               7.4             0.700         0.00             1.9      0.076   \n",
            "...             ...               ...          ...             ...        ...   \n",
            "1594            6.2             0.600         0.08             2.0      0.090   \n",
            "1595            5.9             0.550         0.10             2.2      0.062   \n",
            "1596            6.3             0.510         0.13             2.3      0.076   \n",
            "1597            5.9             0.645         0.12             2.0      0.075   \n",
            "1598            6.0             0.310         0.47             3.6      0.067   \n",
            "\n",
            "      free sulfur dioxide  total sulfur dioxide  density    pH  sulphates  \\\n",
            "0                    11.0                  34.0  0.99780  3.51       0.56   \n",
            "1                    25.0                  67.0  0.99680  3.20       0.68   \n",
            "2                    15.0                  54.0  0.99700  3.26       0.65   \n",
            "3                    17.0                  60.0  0.99800  3.16       0.58   \n",
            "4                    11.0                  34.0  0.99780  3.51       0.56   \n",
            "...                   ...                   ...      ...   ...        ...   \n",
            "1594                 32.0                  44.0  0.99490  3.45       0.58   \n",
            "1595                 39.0                  51.0  0.99512  3.52       0.76   \n",
            "1596                 29.0                  40.0  0.99574  3.42       0.75   \n",
            "1597                 32.0                  44.0  0.99547  3.57       0.71   \n",
            "1598                 18.0                  42.0  0.99549  3.39       0.66   \n",
            "\n",
            "      alcohol  quality  \n",
            "0         9.4        5  \n",
            "1         9.8        5  \n",
            "2         9.8        5  \n",
            "3         9.8        6  \n",
            "4         9.4        5  \n",
            "...       ...      ...  \n",
            "1594     10.5        5  \n",
            "1595     11.2        6  \n",
            "1596     11.0        6  \n",
            "1597     10.2        5  \n",
            "1598     11.0        6  \n",
            "\n",
            "[1599 rows x 12 columns]\n"
          ]
        }
      ],
      "source": [
        "df = pd.read_excel('winequality-red1.xlsx')\n",
        "print(df)"
      ]
    },
    {
      "cell_type": "markdown",
      "metadata": {
        "id": "sH0LRayj6kKB"
      },
      "source": [
        "Display the first 5 samples of the dataframe"
      ]
    },
    {
      "cell_type": "code",
      "execution_count": null,
      "metadata": {
        "colab": {
          "base_uri": "https://localhost:8080/",
          "height": 250
        },
        "id": "L60-mtwYbAU5",
        "outputId": "6063c5ab-91a4-44e3-d09b-2735e798f3ad"
      },
      "outputs": [
        {
          "data": {
            "text/html": [
              "\n",
              "  <div id=\"df-4723f05b-2774-4963-a139-8b98d13f4377\">\n",
              "    <div class=\"colab-df-container\">\n",
              "      <div>\n",
              "<style scoped>\n",
              "    .dataframe tbody tr th:only-of-type {\n",
              "        vertical-align: middle;\n",
              "    }\n",
              "\n",
              "    .dataframe tbody tr th {\n",
              "        vertical-align: top;\n",
              "    }\n",
              "\n",
              "    .dataframe thead th {\n",
              "        text-align: right;\n",
              "    }\n",
              "</style>\n",
              "<table border=\"1\" class=\"dataframe\">\n",
              "  <thead>\n",
              "    <tr style=\"text-align: right;\">\n",
              "      <th></th>\n",
              "      <th>fixed acidity</th>\n",
              "      <th>volatile acidity</th>\n",
              "      <th>citric acid</th>\n",
              "      <th>residual sugar</th>\n",
              "      <th>chlorides</th>\n",
              "      <th>free sulfur dioxide</th>\n",
              "      <th>total sulfur dioxide</th>\n",
              "      <th>density</th>\n",
              "      <th>pH</th>\n",
              "      <th>sulphates</th>\n",
              "      <th>alcohol</th>\n",
              "      <th>quality</th>\n",
              "    </tr>\n",
              "  </thead>\n",
              "  <tbody>\n",
              "    <tr>\n",
              "      <th>0</th>\n",
              "      <td>7.4</td>\n",
              "      <td>0.70</td>\n",
              "      <td>0.00</td>\n",
              "      <td>1.9</td>\n",
              "      <td>0.076</td>\n",
              "      <td>11.0</td>\n",
              "      <td>34.0</td>\n",
              "      <td>0.9978</td>\n",
              "      <td>3.51</td>\n",
              "      <td>0.56</td>\n",
              "      <td>9.4</td>\n",
              "      <td>5</td>\n",
              "    </tr>\n",
              "    <tr>\n",
              "      <th>1</th>\n",
              "      <td>7.8</td>\n",
              "      <td>0.88</td>\n",
              "      <td>0.00</td>\n",
              "      <td>2.6</td>\n",
              "      <td>0.098</td>\n",
              "      <td>25.0</td>\n",
              "      <td>67.0</td>\n",
              "      <td>0.9968</td>\n",
              "      <td>3.20</td>\n",
              "      <td>0.68</td>\n",
              "      <td>9.8</td>\n",
              "      <td>5</td>\n",
              "    </tr>\n",
              "    <tr>\n",
              "      <th>2</th>\n",
              "      <td>7.8</td>\n",
              "      <td>0.76</td>\n",
              "      <td>0.04</td>\n",
              "      <td>2.3</td>\n",
              "      <td>0.092</td>\n",
              "      <td>15.0</td>\n",
              "      <td>54.0</td>\n",
              "      <td>0.9970</td>\n",
              "      <td>3.26</td>\n",
              "      <td>0.65</td>\n",
              "      <td>9.8</td>\n",
              "      <td>5</td>\n",
              "    </tr>\n",
              "    <tr>\n",
              "      <th>3</th>\n",
              "      <td>11.2</td>\n",
              "      <td>0.28</td>\n",
              "      <td>0.56</td>\n",
              "      <td>1.9</td>\n",
              "      <td>0.075</td>\n",
              "      <td>17.0</td>\n",
              "      <td>60.0</td>\n",
              "      <td>0.9980</td>\n",
              "      <td>3.16</td>\n",
              "      <td>0.58</td>\n",
              "      <td>9.8</td>\n",
              "      <td>6</td>\n",
              "    </tr>\n",
              "    <tr>\n",
              "      <th>4</th>\n",
              "      <td>7.4</td>\n",
              "      <td>0.70</td>\n",
              "      <td>0.00</td>\n",
              "      <td>1.9</td>\n",
              "      <td>0.076</td>\n",
              "      <td>11.0</td>\n",
              "      <td>34.0</td>\n",
              "      <td>0.9978</td>\n",
              "      <td>3.51</td>\n",
              "      <td>0.56</td>\n",
              "      <td>9.4</td>\n",
              "      <td>5</td>\n",
              "    </tr>\n",
              "  </tbody>\n",
              "</table>\n",
              "</div>\n",
              "      <button class=\"colab-df-convert\" onclick=\"convertToInteractive('df-4723f05b-2774-4963-a139-8b98d13f4377')\"\n",
              "              title=\"Convert this dataframe to an interactive table.\"\n",
              "              style=\"display:none;\">\n",
              "        \n",
              "  <svg xmlns=\"http://www.w3.org/2000/svg\" height=\"24px\"viewBox=\"0 0 24 24\"\n",
              "       width=\"24px\">\n",
              "    <path d=\"M0 0h24v24H0V0z\" fill=\"none\"/>\n",
              "    <path d=\"M18.56 5.44l.94 2.06.94-2.06 2.06-.94-2.06-.94-.94-2.06-.94 2.06-2.06.94zm-11 1L8.5 8.5l.94-2.06 2.06-.94-2.06-.94L8.5 2.5l-.94 2.06-2.06.94zm10 10l.94 2.06.94-2.06 2.06-.94-2.06-.94-.94-2.06-.94 2.06-2.06.94z\"/><path d=\"M17.41 7.96l-1.37-1.37c-.4-.4-.92-.59-1.43-.59-.52 0-1.04.2-1.43.59L10.3 9.45l-7.72 7.72c-.78.78-.78 2.05 0 2.83L4 21.41c.39.39.9.59 1.41.59.51 0 1.02-.2 1.41-.59l7.78-7.78 2.81-2.81c.8-.78.8-2.07 0-2.86zM5.41 20L4 18.59l7.72-7.72 1.47 1.35L5.41 20z\"/>\n",
              "  </svg>\n",
              "      </button>\n",
              "      \n",
              "  <style>\n",
              "    .colab-df-container {\n",
              "      display:flex;\n",
              "      flex-wrap:wrap;\n",
              "      gap: 12px;\n",
              "    }\n",
              "\n",
              "    .colab-df-convert {\n",
              "      background-color: #E8F0FE;\n",
              "      border: none;\n",
              "      border-radius: 50%;\n",
              "      cursor: pointer;\n",
              "      display: none;\n",
              "      fill: #1967D2;\n",
              "      height: 32px;\n",
              "      padding: 0 0 0 0;\n",
              "      width: 32px;\n",
              "    }\n",
              "\n",
              "    .colab-df-convert:hover {\n",
              "      background-color: #E2EBFA;\n",
              "      box-shadow: 0px 1px 2px rgba(60, 64, 67, 0.3), 0px 1px 3px 1px rgba(60, 64, 67, 0.15);\n",
              "      fill: #174EA6;\n",
              "    }\n",
              "\n",
              "    [theme=dark] .colab-df-convert {\n",
              "      background-color: #3B4455;\n",
              "      fill: #D2E3FC;\n",
              "    }\n",
              "\n",
              "    [theme=dark] .colab-df-convert:hover {\n",
              "      background-color: #434B5C;\n",
              "      box-shadow: 0px 1px 3px 1px rgba(0, 0, 0, 0.15);\n",
              "      filter: drop-shadow(0px 1px 2px rgba(0, 0, 0, 0.3));\n",
              "      fill: #FFFFFF;\n",
              "    }\n",
              "  </style>\n",
              "\n",
              "      <script>\n",
              "        const buttonEl =\n",
              "          document.querySelector('#df-4723f05b-2774-4963-a139-8b98d13f4377 button.colab-df-convert');\n",
              "        buttonEl.style.display =\n",
              "          google.colab.kernel.accessAllowed ? 'block' : 'none';\n",
              "\n",
              "        async function convertToInteractive(key) {\n",
              "          const element = document.querySelector('#df-4723f05b-2774-4963-a139-8b98d13f4377');\n",
              "          const dataTable =\n",
              "            await google.colab.kernel.invokeFunction('convertToInteractive',\n",
              "                                                     [key], {});\n",
              "          if (!dataTable) return;\n",
              "\n",
              "          const docLinkHtml = 'Like what you see? Visit the ' +\n",
              "            '<a target=\"_blank\" href=https://colab.research.google.com/notebooks/data_table.ipynb>data table notebook</a>'\n",
              "            + ' to learn more about interactive tables.';\n",
              "          element.innerHTML = '';\n",
              "          dataTable['output_type'] = 'display_data';\n",
              "          await google.colab.output.renderOutput(dataTable, element);\n",
              "          const docLink = document.createElement('div');\n",
              "          docLink.innerHTML = docLinkHtml;\n",
              "          element.appendChild(docLink);\n",
              "        }\n",
              "      </script>\n",
              "    </div>\n",
              "  </div>\n",
              "  "
            ],
            "text/plain": [
              "   fixed acidity  volatile acidity  citric acid  residual sugar  chlorides  \\\n",
              "0            7.4              0.70         0.00             1.9      0.076   \n",
              "1            7.8              0.88         0.00             2.6      0.098   \n",
              "2            7.8              0.76         0.04             2.3      0.092   \n",
              "3           11.2              0.28         0.56             1.9      0.075   \n",
              "4            7.4              0.70         0.00             1.9      0.076   \n",
              "\n",
              "   free sulfur dioxide  total sulfur dioxide  density    pH  sulphates  \\\n",
              "0                 11.0                  34.0   0.9978  3.51       0.56   \n",
              "1                 25.0                  67.0   0.9968  3.20       0.68   \n",
              "2                 15.0                  54.0   0.9970  3.26       0.65   \n",
              "3                 17.0                  60.0   0.9980  3.16       0.58   \n",
              "4                 11.0                  34.0   0.9978  3.51       0.56   \n",
              "\n",
              "   alcohol  quality  \n",
              "0      9.4        5  \n",
              "1      9.8        5  \n",
              "2      9.8        5  \n",
              "3      9.8        6  \n",
              "4      9.4        5  "
            ]
          },
          "execution_count": 7,
          "metadata": {},
          "output_type": "execute_result"
        }
      ],
      "source": [
        "df.head()"
      ]
    },
    {
      "cell_type": "markdown",
      "metadata": {
        "id": "mxvw6avy6m0x"
      },
      "source": [
        "Display the last 5 samples of the dataframe"
      ]
    },
    {
      "cell_type": "code",
      "execution_count": null,
      "metadata": {
        "colab": {
          "base_uri": "https://localhost:8080/",
          "height": 268
        },
        "id": "RlT9ii2DbDsJ",
        "outputId": "d8d9b58c-4651-4021-eefa-495cf1ed23e6"
      },
      "outputs": [
        {
          "data": {
            "text/html": [
              "\n",
              "  <div id=\"df-8348490f-5bce-4c1c-924c-c922c02318c2\">\n",
              "    <div class=\"colab-df-container\">\n",
              "      <div>\n",
              "<style scoped>\n",
              "    .dataframe tbody tr th:only-of-type {\n",
              "        vertical-align: middle;\n",
              "    }\n",
              "\n",
              "    .dataframe tbody tr th {\n",
              "        vertical-align: top;\n",
              "    }\n",
              "\n",
              "    .dataframe thead th {\n",
              "        text-align: right;\n",
              "    }\n",
              "</style>\n",
              "<table border=\"1\" class=\"dataframe\">\n",
              "  <thead>\n",
              "    <tr style=\"text-align: right;\">\n",
              "      <th></th>\n",
              "      <th>fixed acidity</th>\n",
              "      <th>volatile acidity</th>\n",
              "      <th>citric acid</th>\n",
              "      <th>residual sugar</th>\n",
              "      <th>chlorides</th>\n",
              "      <th>free sulfur dioxide</th>\n",
              "      <th>total sulfur dioxide</th>\n",
              "      <th>density</th>\n",
              "      <th>pH</th>\n",
              "      <th>sulphates</th>\n",
              "      <th>alcohol</th>\n",
              "      <th>quality</th>\n",
              "    </tr>\n",
              "  </thead>\n",
              "  <tbody>\n",
              "    <tr>\n",
              "      <th>1594</th>\n",
              "      <td>6.2</td>\n",
              "      <td>0.600</td>\n",
              "      <td>0.08</td>\n",
              "      <td>2.0</td>\n",
              "      <td>0.090</td>\n",
              "      <td>32.0</td>\n",
              "      <td>44.0</td>\n",
              "      <td>0.99490</td>\n",
              "      <td>3.45</td>\n",
              "      <td>0.58</td>\n",
              "      <td>10.5</td>\n",
              "      <td>5</td>\n",
              "    </tr>\n",
              "    <tr>\n",
              "      <th>1595</th>\n",
              "      <td>5.9</td>\n",
              "      <td>0.550</td>\n",
              "      <td>0.10</td>\n",
              "      <td>2.2</td>\n",
              "      <td>0.062</td>\n",
              "      <td>39.0</td>\n",
              "      <td>51.0</td>\n",
              "      <td>0.99512</td>\n",
              "      <td>3.52</td>\n",
              "      <td>0.76</td>\n",
              "      <td>11.2</td>\n",
              "      <td>6</td>\n",
              "    </tr>\n",
              "    <tr>\n",
              "      <th>1596</th>\n",
              "      <td>6.3</td>\n",
              "      <td>0.510</td>\n",
              "      <td>0.13</td>\n",
              "      <td>2.3</td>\n",
              "      <td>0.076</td>\n",
              "      <td>29.0</td>\n",
              "      <td>40.0</td>\n",
              "      <td>0.99574</td>\n",
              "      <td>3.42</td>\n",
              "      <td>0.75</td>\n",
              "      <td>11.0</td>\n",
              "      <td>6</td>\n",
              "    </tr>\n",
              "    <tr>\n",
              "      <th>1597</th>\n",
              "      <td>5.9</td>\n",
              "      <td>0.645</td>\n",
              "      <td>0.12</td>\n",
              "      <td>2.0</td>\n",
              "      <td>0.075</td>\n",
              "      <td>32.0</td>\n",
              "      <td>44.0</td>\n",
              "      <td>0.99547</td>\n",
              "      <td>3.57</td>\n",
              "      <td>0.71</td>\n",
              "      <td>10.2</td>\n",
              "      <td>5</td>\n",
              "    </tr>\n",
              "    <tr>\n",
              "      <th>1598</th>\n",
              "      <td>6.0</td>\n",
              "      <td>0.310</td>\n",
              "      <td>0.47</td>\n",
              "      <td>3.6</td>\n",
              "      <td>0.067</td>\n",
              "      <td>18.0</td>\n",
              "      <td>42.0</td>\n",
              "      <td>0.99549</td>\n",
              "      <td>3.39</td>\n",
              "      <td>0.66</td>\n",
              "      <td>11.0</td>\n",
              "      <td>6</td>\n",
              "    </tr>\n",
              "  </tbody>\n",
              "</table>\n",
              "</div>\n",
              "      <button class=\"colab-df-convert\" onclick=\"convertToInteractive('df-8348490f-5bce-4c1c-924c-c922c02318c2')\"\n",
              "              title=\"Convert this dataframe to an interactive table.\"\n",
              "              style=\"display:none;\">\n",
              "        \n",
              "  <svg xmlns=\"http://www.w3.org/2000/svg\" height=\"24px\"viewBox=\"0 0 24 24\"\n",
              "       width=\"24px\">\n",
              "    <path d=\"M0 0h24v24H0V0z\" fill=\"none\"/>\n",
              "    <path d=\"M18.56 5.44l.94 2.06.94-2.06 2.06-.94-2.06-.94-.94-2.06-.94 2.06-2.06.94zm-11 1L8.5 8.5l.94-2.06 2.06-.94-2.06-.94L8.5 2.5l-.94 2.06-2.06.94zm10 10l.94 2.06.94-2.06 2.06-.94-2.06-.94-.94-2.06-.94 2.06-2.06.94z\"/><path d=\"M17.41 7.96l-1.37-1.37c-.4-.4-.92-.59-1.43-.59-.52 0-1.04.2-1.43.59L10.3 9.45l-7.72 7.72c-.78.78-.78 2.05 0 2.83L4 21.41c.39.39.9.59 1.41.59.51 0 1.02-.2 1.41-.59l7.78-7.78 2.81-2.81c.8-.78.8-2.07 0-2.86zM5.41 20L4 18.59l7.72-7.72 1.47 1.35L5.41 20z\"/>\n",
              "  </svg>\n",
              "      </button>\n",
              "      \n",
              "  <style>\n",
              "    .colab-df-container {\n",
              "      display:flex;\n",
              "      flex-wrap:wrap;\n",
              "      gap: 12px;\n",
              "    }\n",
              "\n",
              "    .colab-df-convert {\n",
              "      background-color: #E8F0FE;\n",
              "      border: none;\n",
              "      border-radius: 50%;\n",
              "      cursor: pointer;\n",
              "      display: none;\n",
              "      fill: #1967D2;\n",
              "      height: 32px;\n",
              "      padding: 0 0 0 0;\n",
              "      width: 32px;\n",
              "    }\n",
              "\n",
              "    .colab-df-convert:hover {\n",
              "      background-color: #E2EBFA;\n",
              "      box-shadow: 0px 1px 2px rgba(60, 64, 67, 0.3), 0px 1px 3px 1px rgba(60, 64, 67, 0.15);\n",
              "      fill: #174EA6;\n",
              "    }\n",
              "\n",
              "    [theme=dark] .colab-df-convert {\n",
              "      background-color: #3B4455;\n",
              "      fill: #D2E3FC;\n",
              "    }\n",
              "\n",
              "    [theme=dark] .colab-df-convert:hover {\n",
              "      background-color: #434B5C;\n",
              "      box-shadow: 0px 1px 3px 1px rgba(0, 0, 0, 0.15);\n",
              "      filter: drop-shadow(0px 1px 2px rgba(0, 0, 0, 0.3));\n",
              "      fill: #FFFFFF;\n",
              "    }\n",
              "  </style>\n",
              "\n",
              "      <script>\n",
              "        const buttonEl =\n",
              "          document.querySelector('#df-8348490f-5bce-4c1c-924c-c922c02318c2 button.colab-df-convert');\n",
              "        buttonEl.style.display =\n",
              "          google.colab.kernel.accessAllowed ? 'block' : 'none';\n",
              "\n",
              "        async function convertToInteractive(key) {\n",
              "          const element = document.querySelector('#df-8348490f-5bce-4c1c-924c-c922c02318c2');\n",
              "          const dataTable =\n",
              "            await google.colab.kernel.invokeFunction('convertToInteractive',\n",
              "                                                     [key], {});\n",
              "          if (!dataTable) return;\n",
              "\n",
              "          const docLinkHtml = 'Like what you see? Visit the ' +\n",
              "            '<a target=\"_blank\" href=https://colab.research.google.com/notebooks/data_table.ipynb>data table notebook</a>'\n",
              "            + ' to learn more about interactive tables.';\n",
              "          element.innerHTML = '';\n",
              "          dataTable['output_type'] = 'display_data';\n",
              "          await google.colab.output.renderOutput(dataTable, element);\n",
              "          const docLink = document.createElement('div');\n",
              "          docLink.innerHTML = docLinkHtml;\n",
              "          element.appendChild(docLink);\n",
              "        }\n",
              "      </script>\n",
              "    </div>\n",
              "  </div>\n",
              "  "
            ],
            "text/plain": [
              "      fixed acidity  volatile acidity  citric acid  residual sugar  chlorides  \\\n",
              "1594            6.2             0.600         0.08             2.0      0.090   \n",
              "1595            5.9             0.550         0.10             2.2      0.062   \n",
              "1596            6.3             0.510         0.13             2.3      0.076   \n",
              "1597            5.9             0.645         0.12             2.0      0.075   \n",
              "1598            6.0             0.310         0.47             3.6      0.067   \n",
              "\n",
              "      free sulfur dioxide  total sulfur dioxide  density    pH  sulphates  \\\n",
              "1594                 32.0                  44.0  0.99490  3.45       0.58   \n",
              "1595                 39.0                  51.0  0.99512  3.52       0.76   \n",
              "1596                 29.0                  40.0  0.99574  3.42       0.75   \n",
              "1597                 32.0                  44.0  0.99547  3.57       0.71   \n",
              "1598                 18.0                  42.0  0.99549  3.39       0.66   \n",
              "\n",
              "      alcohol  quality  \n",
              "1594     10.5        5  \n",
              "1595     11.2        6  \n",
              "1596     11.0        6  \n",
              "1597     10.2        5  \n",
              "1598     11.0        6  "
            ]
          },
          "execution_count": 8,
          "metadata": {},
          "output_type": "execute_result"
        }
      ],
      "source": [
        "df.tail()"
      ]
    },
    {
      "cell_type": "markdown",
      "metadata": {
        "id": "MwXWRY2K6qh_"
      },
      "source": [
        "Display the total no.of rows and columns in the dataframe"
      ]
    },
    {
      "cell_type": "code",
      "execution_count": null,
      "metadata": {
        "colab": {
          "base_uri": "https://localhost:8080/"
        },
        "id": "z9eTu75ObLqA",
        "outputId": "35f8b2d8-f337-4e37-9607-7d27b0502b37"
      },
      "outputs": [
        {
          "data": {
            "text/plain": [
              "(1599, 12)"
            ]
          },
          "execution_count": 9,
          "metadata": {},
          "output_type": "execute_result"
        }
      ],
      "source": [
        "df.shape"
      ]
    },
    {
      "cell_type": "markdown",
      "metadata": {
        "id": "vBUJacKk676Y"
      },
      "source": [
        "Display the descrition of the data in the dataframe"
      ]
    },
    {
      "cell_type": "code",
      "execution_count": null,
      "metadata": {
        "colab": {
          "base_uri": "https://localhost:8080/",
          "height": 362
        },
        "id": "aVCzK-VN7UkE",
        "outputId": "b85e2ef4-7f2e-4787-f396-a6c84c2b3d39"
      },
      "outputs": [
        {
          "data": {
            "text/html": [
              "\n",
              "  <div id=\"df-7f8e5dfe-5a8d-4d57-a258-fe7fff499f88\">\n",
              "    <div class=\"colab-df-container\">\n",
              "      <div>\n",
              "<style scoped>\n",
              "    .dataframe tbody tr th:only-of-type {\n",
              "        vertical-align: middle;\n",
              "    }\n",
              "\n",
              "    .dataframe tbody tr th {\n",
              "        vertical-align: top;\n",
              "    }\n",
              "\n",
              "    .dataframe thead th {\n",
              "        text-align: right;\n",
              "    }\n",
              "</style>\n",
              "<table border=\"1\" class=\"dataframe\">\n",
              "  <thead>\n",
              "    <tr style=\"text-align: right;\">\n",
              "      <th></th>\n",
              "      <th>fixed acidity</th>\n",
              "      <th>volatile acidity</th>\n",
              "      <th>citric acid</th>\n",
              "      <th>residual sugar</th>\n",
              "      <th>chlorides</th>\n",
              "      <th>free sulfur dioxide</th>\n",
              "      <th>total sulfur dioxide</th>\n",
              "      <th>density</th>\n",
              "      <th>pH</th>\n",
              "      <th>sulphates</th>\n",
              "      <th>alcohol</th>\n",
              "      <th>quality</th>\n",
              "    </tr>\n",
              "  </thead>\n",
              "  <tbody>\n",
              "    <tr>\n",
              "      <th>count</th>\n",
              "      <td>1599.000000</td>\n",
              "      <td>1599.000000</td>\n",
              "      <td>1599.000000</td>\n",
              "      <td>1599.000000</td>\n",
              "      <td>1599.000000</td>\n",
              "      <td>1599.000000</td>\n",
              "      <td>1599.000000</td>\n",
              "      <td>1599.000000</td>\n",
              "      <td>1599.000000</td>\n",
              "      <td>1599.000000</td>\n",
              "      <td>1599.000000</td>\n",
              "      <td>1599.000000</td>\n",
              "    </tr>\n",
              "    <tr>\n",
              "      <th>mean</th>\n",
              "      <td>8.319637</td>\n",
              "      <td>0.527821</td>\n",
              "      <td>0.270976</td>\n",
              "      <td>2.538806</td>\n",
              "      <td>0.087467</td>\n",
              "      <td>15.874922</td>\n",
              "      <td>46.467792</td>\n",
              "      <td>0.996747</td>\n",
              "      <td>3.311113</td>\n",
              "      <td>0.658149</td>\n",
              "      <td>10.422983</td>\n",
              "      <td>5.636023</td>\n",
              "    </tr>\n",
              "    <tr>\n",
              "      <th>std</th>\n",
              "      <td>1.741096</td>\n",
              "      <td>0.179060</td>\n",
              "      <td>0.194801</td>\n",
              "      <td>1.409928</td>\n",
              "      <td>0.047065</td>\n",
              "      <td>10.460157</td>\n",
              "      <td>32.895324</td>\n",
              "      <td>0.001887</td>\n",
              "      <td>0.154386</td>\n",
              "      <td>0.169507</td>\n",
              "      <td>1.065668</td>\n",
              "      <td>0.807569</td>\n",
              "    </tr>\n",
              "    <tr>\n",
              "      <th>min</th>\n",
              "      <td>4.600000</td>\n",
              "      <td>0.120000</td>\n",
              "      <td>0.000000</td>\n",
              "      <td>0.900000</td>\n",
              "      <td>0.012000</td>\n",
              "      <td>1.000000</td>\n",
              "      <td>6.000000</td>\n",
              "      <td>0.990070</td>\n",
              "      <td>2.740000</td>\n",
              "      <td>0.330000</td>\n",
              "      <td>8.400000</td>\n",
              "      <td>3.000000</td>\n",
              "    </tr>\n",
              "    <tr>\n",
              "      <th>25%</th>\n",
              "      <td>7.100000</td>\n",
              "      <td>0.390000</td>\n",
              "      <td>0.090000</td>\n",
              "      <td>1.900000</td>\n",
              "      <td>0.070000</td>\n",
              "      <td>7.000000</td>\n",
              "      <td>22.000000</td>\n",
              "      <td>0.995600</td>\n",
              "      <td>3.210000</td>\n",
              "      <td>0.550000</td>\n",
              "      <td>9.500000</td>\n",
              "      <td>5.000000</td>\n",
              "    </tr>\n",
              "    <tr>\n",
              "      <th>50%</th>\n",
              "      <td>7.900000</td>\n",
              "      <td>0.520000</td>\n",
              "      <td>0.260000</td>\n",
              "      <td>2.200000</td>\n",
              "      <td>0.079000</td>\n",
              "      <td>14.000000</td>\n",
              "      <td>38.000000</td>\n",
              "      <td>0.996750</td>\n",
              "      <td>3.310000</td>\n",
              "      <td>0.620000</td>\n",
              "      <td>10.200000</td>\n",
              "      <td>6.000000</td>\n",
              "    </tr>\n",
              "    <tr>\n",
              "      <th>75%</th>\n",
              "      <td>9.200000</td>\n",
              "      <td>0.640000</td>\n",
              "      <td>0.420000</td>\n",
              "      <td>2.600000</td>\n",
              "      <td>0.090000</td>\n",
              "      <td>21.000000</td>\n",
              "      <td>62.000000</td>\n",
              "      <td>0.997835</td>\n",
              "      <td>3.400000</td>\n",
              "      <td>0.730000</td>\n",
              "      <td>11.100000</td>\n",
              "      <td>6.000000</td>\n",
              "    </tr>\n",
              "    <tr>\n",
              "      <th>max</th>\n",
              "      <td>15.900000</td>\n",
              "      <td>1.580000</td>\n",
              "      <td>1.000000</td>\n",
              "      <td>15.500000</td>\n",
              "      <td>0.611000</td>\n",
              "      <td>72.000000</td>\n",
              "      <td>289.000000</td>\n",
              "      <td>1.003690</td>\n",
              "      <td>4.010000</td>\n",
              "      <td>2.000000</td>\n",
              "      <td>14.900000</td>\n",
              "      <td>8.000000</td>\n",
              "    </tr>\n",
              "  </tbody>\n",
              "</table>\n",
              "</div>\n",
              "      <button class=\"colab-df-convert\" onclick=\"convertToInteractive('df-7f8e5dfe-5a8d-4d57-a258-fe7fff499f88')\"\n",
              "              title=\"Convert this dataframe to an interactive table.\"\n",
              "              style=\"display:none;\">\n",
              "        \n",
              "  <svg xmlns=\"http://www.w3.org/2000/svg\" height=\"24px\"viewBox=\"0 0 24 24\"\n",
              "       width=\"24px\">\n",
              "    <path d=\"M0 0h24v24H0V0z\" fill=\"none\"/>\n",
              "    <path d=\"M18.56 5.44l.94 2.06.94-2.06 2.06-.94-2.06-.94-.94-2.06-.94 2.06-2.06.94zm-11 1L8.5 8.5l.94-2.06 2.06-.94-2.06-.94L8.5 2.5l-.94 2.06-2.06.94zm10 10l.94 2.06.94-2.06 2.06-.94-2.06-.94-.94-2.06-.94 2.06-2.06.94z\"/><path d=\"M17.41 7.96l-1.37-1.37c-.4-.4-.92-.59-1.43-.59-.52 0-1.04.2-1.43.59L10.3 9.45l-7.72 7.72c-.78.78-.78 2.05 0 2.83L4 21.41c.39.39.9.59 1.41.59.51 0 1.02-.2 1.41-.59l7.78-7.78 2.81-2.81c.8-.78.8-2.07 0-2.86zM5.41 20L4 18.59l7.72-7.72 1.47 1.35L5.41 20z\"/>\n",
              "  </svg>\n",
              "      </button>\n",
              "      \n",
              "  <style>\n",
              "    .colab-df-container {\n",
              "      display:flex;\n",
              "      flex-wrap:wrap;\n",
              "      gap: 12px;\n",
              "    }\n",
              "\n",
              "    .colab-df-convert {\n",
              "      background-color: #E8F0FE;\n",
              "      border: none;\n",
              "      border-radius: 50%;\n",
              "      cursor: pointer;\n",
              "      display: none;\n",
              "      fill: #1967D2;\n",
              "      height: 32px;\n",
              "      padding: 0 0 0 0;\n",
              "      width: 32px;\n",
              "    }\n",
              "\n",
              "    .colab-df-convert:hover {\n",
              "      background-color: #E2EBFA;\n",
              "      box-shadow: 0px 1px 2px rgba(60, 64, 67, 0.3), 0px 1px 3px 1px rgba(60, 64, 67, 0.15);\n",
              "      fill: #174EA6;\n",
              "    }\n",
              "\n",
              "    [theme=dark] .colab-df-convert {\n",
              "      background-color: #3B4455;\n",
              "      fill: #D2E3FC;\n",
              "    }\n",
              "\n",
              "    [theme=dark] .colab-df-convert:hover {\n",
              "      background-color: #434B5C;\n",
              "      box-shadow: 0px 1px 3px 1px rgba(0, 0, 0, 0.15);\n",
              "      filter: drop-shadow(0px 1px 2px rgba(0, 0, 0, 0.3));\n",
              "      fill: #FFFFFF;\n",
              "    }\n",
              "  </style>\n",
              "\n",
              "      <script>\n",
              "        const buttonEl =\n",
              "          document.querySelector('#df-7f8e5dfe-5a8d-4d57-a258-fe7fff499f88 button.colab-df-convert');\n",
              "        buttonEl.style.display =\n",
              "          google.colab.kernel.accessAllowed ? 'block' : 'none';\n",
              "\n",
              "        async function convertToInteractive(key) {\n",
              "          const element = document.querySelector('#df-7f8e5dfe-5a8d-4d57-a258-fe7fff499f88');\n",
              "          const dataTable =\n",
              "            await google.colab.kernel.invokeFunction('convertToInteractive',\n",
              "                                                     [key], {});\n",
              "          if (!dataTable) return;\n",
              "\n",
              "          const docLinkHtml = 'Like what you see? Visit the ' +\n",
              "            '<a target=\"_blank\" href=https://colab.research.google.com/notebooks/data_table.ipynb>data table notebook</a>'\n",
              "            + ' to learn more about interactive tables.';\n",
              "          element.innerHTML = '';\n",
              "          dataTable['output_type'] = 'display_data';\n",
              "          await google.colab.output.renderOutput(dataTable, element);\n",
              "          const docLink = document.createElement('div');\n",
              "          docLink.innerHTML = docLinkHtml;\n",
              "          element.appendChild(docLink);\n",
              "        }\n",
              "      </script>\n",
              "    </div>\n",
              "  </div>\n",
              "  "
            ],
            "text/plain": [
              "       fixed acidity  volatile acidity  citric acid  residual sugar  \\\n",
              "count    1599.000000       1599.000000  1599.000000     1599.000000   \n",
              "mean        8.319637          0.527821     0.270976        2.538806   \n",
              "std         1.741096          0.179060     0.194801        1.409928   \n",
              "min         4.600000          0.120000     0.000000        0.900000   \n",
              "25%         7.100000          0.390000     0.090000        1.900000   \n",
              "50%         7.900000          0.520000     0.260000        2.200000   \n",
              "75%         9.200000          0.640000     0.420000        2.600000   \n",
              "max        15.900000          1.580000     1.000000       15.500000   \n",
              "\n",
              "         chlorides  free sulfur dioxide  total sulfur dioxide      density  \\\n",
              "count  1599.000000          1599.000000           1599.000000  1599.000000   \n",
              "mean      0.087467            15.874922             46.467792     0.996747   \n",
              "std       0.047065            10.460157             32.895324     0.001887   \n",
              "min       0.012000             1.000000              6.000000     0.990070   \n",
              "25%       0.070000             7.000000             22.000000     0.995600   \n",
              "50%       0.079000            14.000000             38.000000     0.996750   \n",
              "75%       0.090000            21.000000             62.000000     0.997835   \n",
              "max       0.611000            72.000000            289.000000     1.003690   \n",
              "\n",
              "                pH    sulphates      alcohol      quality  \n",
              "count  1599.000000  1599.000000  1599.000000  1599.000000  \n",
              "mean      3.311113     0.658149    10.422983     5.636023  \n",
              "std       0.154386     0.169507     1.065668     0.807569  \n",
              "min       2.740000     0.330000     8.400000     3.000000  \n",
              "25%       3.210000     0.550000     9.500000     5.000000  \n",
              "50%       3.310000     0.620000    10.200000     6.000000  \n",
              "75%       3.400000     0.730000    11.100000     6.000000  \n",
              "max       4.010000     2.000000    14.900000     8.000000  "
            ]
          },
          "execution_count": 10,
          "metadata": {},
          "output_type": "execute_result"
        }
      ],
      "source": [
        "df.describe()"
      ]
    },
    {
      "cell_type": "markdown",
      "metadata": {
        "id": "m4hBQEyD8TEO"
      },
      "source": [
        "Find the mean of each attribute in the dataframe"
      ]
    },
    {
      "cell_type": "code",
      "execution_count": null,
      "metadata": {
        "colab": {
          "base_uri": "https://localhost:8080/"
        },
        "id": "9WGbja-vbLPp",
        "outputId": "ddd289f6-028f-4b5f-dc29-77fa62d9eb61"
      },
      "outputs": [
        {
          "data": {
            "text/plain": [
              "fixed acidity            8.319637\n",
              "volatile acidity         0.527821\n",
              "citric acid              0.270976\n",
              "residual sugar           2.538806\n",
              "chlorides                0.087467\n",
              "free sulfur dioxide     15.874922\n",
              "total sulfur dioxide    46.467792\n",
              "density                  0.996747\n",
              "pH                       3.311113\n",
              "sulphates                0.658149\n",
              "alcohol                 10.422983\n",
              "quality                  5.636023\n",
              "dtype: float64"
            ]
          },
          "execution_count": 11,
          "metadata": {},
          "output_type": "execute_result"
        }
      ],
      "source": [
        "df.apply(np.mean)"
      ]
    },
    {
      "cell_type": "markdown",
      "metadata": {
        "id": "TI1Ip8E78l7L"
      },
      "source": [
        "Plot the scatter matrix to find the correlation between each attribute present in the dataframe"
      ]
    },
    {
      "cell_type": "code",
      "execution_count": null,
      "metadata": {
        "colab": {
          "base_uri": "https://localhost:8080/",
          "height": 1000
        },
        "id": "cLDOev_B82JW",
        "outputId": "81701ae3-e565-4439-ebf6-8fa299dcaf5c"
      },
      "outputs": [
        {
          "data": {
            "text/plain": [
              "array([[<matplotlib.axes._subplots.AxesSubplot object at 0x7f9e02505b10>,\n",
              "        <matplotlib.axes._subplots.AxesSubplot object at 0x7f9e024721d0>,\n",
              "        <matplotlib.axes._subplots.AxesSubplot object at 0x7f9e024257d0>,\n",
              "        <matplotlib.axes._subplots.AxesSubplot object at 0x7f9e023d7dd0>,\n",
              "        <matplotlib.axes._subplots.AxesSubplot object at 0x7f9e02396410>,\n",
              "        <matplotlib.axes._subplots.AxesSubplot object at 0x7f9e02348a10>,\n",
              "        <matplotlib.axes._subplots.AxesSubplot object at 0x7f9e022fdfd0>,\n",
              "        <matplotlib.axes._subplots.AxesSubplot object at 0x7f9e0233a610>,\n",
              "        <matplotlib.axes._subplots.AxesSubplot object at 0x7f9e0233a650>,\n",
              "        <matplotlib.axes._subplots.AxesSubplot object at 0x7f9e022edd50>,\n",
              "        <matplotlib.axes._subplots.AxesSubplot object at 0x7f9e023fdd10>,\n",
              "        <matplotlib.axes._subplots.AxesSubplot object at 0x7f9e0227f750>],\n",
              "       [<matplotlib.axes._subplots.AxesSubplot object at 0x7f9e025f1b90>,\n",
              "        <matplotlib.axes._subplots.AxesSubplot object at 0x7f9e021f4950>,\n",
              "        <matplotlib.axes._subplots.AxesSubplot object at 0x7f9e021acf50>,\n",
              "        <matplotlib.axes._subplots.AxesSubplot object at 0x7f9e0216e590>,\n",
              "        <matplotlib.axes._subplots.AxesSubplot object at 0x7f9e02124b90>,\n",
              "        <matplotlib.axes._subplots.AxesSubplot object at 0x7f9e020e91d0>,\n",
              "        <matplotlib.axes._subplots.AxesSubplot object at 0x7f9e0209f7d0>,\n",
              "        <matplotlib.axes._subplots.AxesSubplot object at 0x7f9e02054dd0>,\n",
              "        <matplotlib.axes._subplots.AxesSubplot object at 0x7f9e02018410>,\n",
              "        <matplotlib.axes._subplots.AxesSubplot object at 0x7f9e01fcea10>,\n",
              "        <matplotlib.axes._subplots.AxesSubplot object at 0x7f9e01f93510>,\n",
              "        <matplotlib.axes._subplots.AxesSubplot object at 0x7f9e01f4f890>],\n",
              "       [<matplotlib.axes._subplots.AxesSubplot object at 0x7f9e01f07e90>,\n",
              "        <matplotlib.axes._subplots.AxesSubplot object at 0x7f9e01ec94d0>,\n",
              "        <matplotlib.axes._subplots.AxesSubplot object at 0x7f9e01e7ead0>,\n",
              "        <matplotlib.axes._subplots.AxesSubplot object at 0x7f9e01e42110>,\n",
              "        <matplotlib.axes._subplots.AxesSubplot object at 0x7f9e01e7a710>,\n",
              "        <matplotlib.axes._subplots.AxesSubplot object at 0x7f9e01e2dd10>,\n",
              "        <matplotlib.axes._subplots.AxesSubplot object at 0x7f9e01df1350>,\n",
              "        <matplotlib.axes._subplots.AxesSubplot object at 0x7f9e01da9950>,\n",
              "        <matplotlib.axes._subplots.AxesSubplot object at 0x7f9e01d5ef50>,\n",
              "        <matplotlib.axes._subplots.AxesSubplot object at 0x7f9e01d22590>,\n",
              "        <matplotlib.axes._subplots.AxesSubplot object at 0x7f9e01cd9b90>,\n",
              "        <matplotlib.axes._subplots.AxesSubplot object at 0x7f9e01c9c1d0>],\n",
              "       [<matplotlib.axes._subplots.AxesSubplot object at 0x7f9e01c507d0>,\n",
              "        <matplotlib.axes._subplots.AxesSubplot object at 0x7f9e01c08dd0>,\n",
              "        <matplotlib.axes._subplots.AxesSubplot object at 0x7f9e01bcb410>,\n",
              "        <matplotlib.axes._subplots.AxesSubplot object at 0x7f9e01b7ea10>,\n",
              "        <matplotlib.axes._subplots.AxesSubplot object at 0x7f9e01bbca10>,\n",
              "        <matplotlib.axes._subplots.AxesSubplot object at 0x7f9e01b74f10>,\n",
              "        <matplotlib.axes._subplots.AxesSubplot object at 0x7f9e01b36450>,\n",
              "        <matplotlib.axes._subplots.AxesSubplot object at 0x7f9e01aeb950>,\n",
              "        <matplotlib.axes._subplots.AxesSubplot object at 0x7f9e01aa2e50>,\n",
              "        <matplotlib.axes._subplots.AxesSubplot object at 0x7f9e01a63390>,\n",
              "        <matplotlib.axes._subplots.AxesSubplot object at 0x7f9e01a19890>,\n",
              "        <matplotlib.axes._subplots.AxesSubplot object at 0x7f9e019d0d90>],\n",
              "       [<matplotlib.axes._subplots.AxesSubplot object at 0x7f9e019962d0>,\n",
              "        <matplotlib.axes._subplots.AxesSubplot object at 0x7f9e019487d0>,\n",
              "        <matplotlib.axes._subplots.AxesSubplot object at 0x7f9e01900cd0>,\n",
              "        <matplotlib.axes._subplots.AxesSubplot object at 0x7f9e018c3210>,\n",
              "        <matplotlib.axes._subplots.AxesSubplot object at 0x7f9e018f7710>,\n",
              "        <matplotlib.axes._subplots.AxesSubplot object at 0x7f9e018afc10>,\n",
              "        <matplotlib.axes._subplots.AxesSubplot object at 0x7f9e0186d190>,\n",
              "        <matplotlib.axes._subplots.AxesSubplot object at 0x7f9e018236d0>,\n",
              "        <matplotlib.axes._subplots.AxesSubplot object at 0x7f9e017dbbd0>,\n",
              "        <matplotlib.axes._subplots.AxesSubplot object at 0x7f9e0179f110>,\n",
              "        <matplotlib.axes._subplots.AxesSubplot object at 0x7f9e01754610>,\n",
              "        <matplotlib.axes._subplots.AxesSubplot object at 0x7f9e01707b10>],\n",
              "       [<matplotlib.axes._subplots.AxesSubplot object at 0x7f9e016bffd0>,\n",
              "        <matplotlib.axes._subplots.AxesSubplot object at 0x7f9e01682550>,\n",
              "        <matplotlib.axes._subplots.AxesSubplot object at 0x7f9e016b7a50>,\n",
              "        <matplotlib.axes._subplots.AxesSubplot object at 0x7f9e0166ef50>,\n",
              "        <matplotlib.axes._subplots.AxesSubplot object at 0x7f9e01632490>,\n",
              "        <matplotlib.axes._subplots.AxesSubplot object at 0x7f9e015e7990>,\n",
              "        <matplotlib.axes._subplots.AxesSubplot object at 0x7f9e0159ce90>,\n",
              "        <matplotlib.axes._subplots.AxesSubplot object at 0x7f9e021cb450>,\n",
              "        <matplotlib.axes._subplots.AxesSubplot object at 0x7f9e02068e10>,\n",
              "        <matplotlib.axes._subplots.AxesSubplot object at 0x7f9e01e92a10>,\n",
              "        <matplotlib.axes._subplots.AxesSubplot object at 0x7f9e01d313d0>,\n",
              "        <matplotlib.axes._subplots.AxesSubplot object at 0x7f9e014ab4d0>],\n",
              "       [<matplotlib.axes._subplots.AxesSubplot object at 0x7f9e01462ad0>,\n",
              "        <matplotlib.axes._subplots.AxesSubplot object at 0x7f9e01426110>,\n",
              "        <matplotlib.axes._subplots.AxesSubplot object at 0x7f9e013dc710>,\n",
              "        <matplotlib.axes._subplots.AxesSubplot object at 0x7f9e01392d10>,\n",
              "        <matplotlib.axes._subplots.AxesSubplot object at 0x7f9e01355350>,\n",
              "        <matplotlib.axes._subplots.AxesSubplot object at 0x7f9e0130a950>,\n",
              "        <matplotlib.axes._subplots.AxesSubplot object at 0x7f9e012c2f50>,\n",
              "        <matplotlib.axes._subplots.AxesSubplot object at 0x7f9e01283590>,\n",
              "        <matplotlib.axes._subplots.AxesSubplot object at 0x7f9e012bab90>,\n",
              "        <matplotlib.axes._subplots.AxesSubplot object at 0x7f9e011fe1d0>,\n",
              "        <matplotlib.axes._subplots.AxesSubplot object at 0x7f9e012337d0>,\n",
              "        <matplotlib.axes._subplots.AxesSubplot object at 0x7f9e011eadd0>],\n",
              "       [<matplotlib.axes._subplots.AxesSubplot object at 0x7f9e011ad410>,\n",
              "        <matplotlib.axes._subplots.AxesSubplot object at 0x7f9e01163a10>,\n",
              "        <matplotlib.axes._subplots.AxesSubplot object at 0x7f9e0111bfd0>,\n",
              "        <matplotlib.axes._subplots.AxesSubplot object at 0x7f9e010dc650>,\n",
              "        <matplotlib.axes._subplots.AxesSubplot object at 0x7f9e01095c50>,\n",
              "        <matplotlib.axes._subplots.AxesSubplot object at 0x7f9e01058290>,\n",
              "        <matplotlib.axes._subplots.AxesSubplot object at 0x7f9e0100e890>,\n",
              "        <matplotlib.axes._subplots.AxesSubplot object at 0x7f9e00fc5e90>,\n",
              "        <matplotlib.axes._subplots.AxesSubplot object at 0x7f9e00f874d0>,\n",
              "        <matplotlib.axes._subplots.AxesSubplot object at 0x7f9e00f3ead0>,\n",
              "        <matplotlib.axes._subplots.AxesSubplot object at 0x7f9e00f072d0>,\n",
              "        <matplotlib.axes._subplots.AxesSubplot object at 0x7f9e00ec06d0>],\n",
              "       [<matplotlib.axes._subplots.AxesSubplot object at 0x7f9e00ef6cd0>,\n",
              "        <matplotlib.axes._subplots.AxesSubplot object at 0x7f9e00eb1bd0>,\n",
              "        <matplotlib.axes._subplots.AxesSubplot object at 0x7f9e00e74110>,\n",
              "        <matplotlib.axes._subplots.AxesSubplot object at 0x7f9e00e2b610>,\n",
              "        <matplotlib.axes._subplots.AxesSubplot object at 0x7f9e00de0b10>,\n",
              "        <matplotlib.axes._subplots.AxesSubplot object at 0x7f9e00d97fd0>,\n",
              "        <matplotlib.axes._subplots.AxesSubplot object at 0x7f9e00d58550>,\n",
              "        <matplotlib.axes._subplots.AxesSubplot object at 0x7f9e00d0fa50>,\n",
              "        <matplotlib.axes._subplots.AxesSubplot object at 0x7f9e00cc8f50>,\n",
              "        <matplotlib.axes._subplots.AxesSubplot object at 0x7f9e00c8c490>,\n",
              "        <matplotlib.axes._subplots.AxesSubplot object at 0x7f9e00c40990>,\n",
              "        <matplotlib.axes._subplots.AxesSubplot object at 0x7f9e00c76e90>],\n",
              "       [<matplotlib.axes._subplots.AxesSubplot object at 0x7f9e00c383d0>,\n",
              "        <matplotlib.axes._subplots.AxesSubplot object at 0x7f9e00bec8d0>,\n",
              "        <matplotlib.axes._subplots.AxesSubplot object at 0x7f9e00ba5dd0>,\n",
              "        <matplotlib.axes._subplots.AxesSubplot object at 0x7f9e00b68310>,\n",
              "        <matplotlib.axes._subplots.AxesSubplot object at 0x7f9e00b1f810>,\n",
              "        <matplotlib.axes._subplots.AxesSubplot object at 0x7f9e00ad4d10>,\n",
              "        <matplotlib.axes._subplots.AxesSubplot object at 0x7f9e00a97250>,\n",
              "        <matplotlib.axes._subplots.AxesSubplot object at 0x7f9e00a4c750>,\n",
              "        <matplotlib.axes._subplots.AxesSubplot object at 0x7f9e00a01c50>,\n",
              "        <matplotlib.axes._subplots.AxesSubplot object at 0x7f9e009c7190>,\n",
              "        <matplotlib.axes._subplots.AxesSubplot object at 0x7f9e0097d690>,\n",
              "        <matplotlib.axes._subplots.AxesSubplot object at 0x7f9e009b2b90>],\n",
              "       [<matplotlib.axes._subplots.AxesSubplot object at 0x7f9e009750d0>,\n",
              "        <matplotlib.axes._subplots.AxesSubplot object at 0x7f9e0092a5d0>,\n",
              "        <matplotlib.axes._subplots.AxesSubplot object at 0x7f9e008e2ad0>,\n",
              "        <matplotlib.axes._subplots.AxesSubplot object at 0x7f9e0088cb10>,\n",
              "        <matplotlib.axes._subplots.AxesSubplot object at 0x7f9e014755d0>,\n",
              "        <matplotlib.axes._subplots.AxesSubplot object at 0x7f9e01283c50>,\n",
              "        <matplotlib.axes._subplots.AxesSubplot object at 0x7f9e01132350>,\n",
              "        <matplotlib.axes._subplots.AxesSubplot object at 0x7f9e00f3e610>,\n",
              "        <matplotlib.axes._subplots.AxesSubplot object at 0x7f9e0079eb50>,\n",
              "        <matplotlib.axes._subplots.AxesSubplot object at 0x7f9e00762190>,\n",
              "        <matplotlib.axes._subplots.AxesSubplot object at 0x7f9e00717790>,\n",
              "        <matplotlib.axes._subplots.AxesSubplot object at 0x7f9e006ced90>],\n",
              "       [<matplotlib.axes._subplots.AxesSubplot object at 0x7f9e006923d0>,\n",
              "        <matplotlib.axes._subplots.AxesSubplot object at 0x7f9e006479d0>,\n",
              "        <matplotlib.axes._subplots.AxesSubplot object at 0x7f9e00674b10>,\n",
              "        <matplotlib.axes._subplots.AxesSubplot object at 0x7f9e005c1610>,\n",
              "        <matplotlib.axes._subplots.AxesSubplot object at 0x7f9e005f7c10>,\n",
              "        <matplotlib.axes._subplots.AxesSubplot object at 0x7f9e005ba250>,\n",
              "        <matplotlib.axes._subplots.AxesSubplot object at 0x7f9e00573850>,\n",
              "        <matplotlib.axes._subplots.AxesSubplot object at 0x7f9e00527e50>,\n",
              "        <matplotlib.axes._subplots.AxesSubplot object at 0x7f9e004ea490>,\n",
              "        <matplotlib.axes._subplots.AxesSubplot object at 0x7f9e004a1a90>,\n",
              "        <matplotlib.axes._subplots.AxesSubplot object at 0x7f9e004630d0>,\n",
              "        <matplotlib.axes._subplots.AxesSubplot object at 0x7f9e004186d0>]],\n",
              "      dtype=object)"
            ]
          },
          "execution_count": 6,
          "metadata": {},
          "output_type": "execute_result"
        },
        {
          "data": {
            "image/png": "[encoded data removed]",
            "text/plain": [
              "<Figure size 432x288 with 144 Axes>"
            ]
          },
          "metadata": {},
          "output_type": "display_data"
        }
      ],
      "source": [
        "pd.plotting.scatter_matrix(df)"
      ]
    },
    {
      "cell_type": "markdown",
      "metadata": {
        "id": "u3dDKASK8_2r"
      },
      "source": [
        "Choose two attributes 'x'and 'y' so that they are positively correlated"
      ]
    },
    {
      "cell_type": "code",
      "execution_count": null,
      "metadata": {
        "colab": {
          "base_uri": "https://localhost:8080/"
        },
        "id": "1UkD-0pvEM_H",
        "outputId": "20dda225-f275-4fac-bdec-69f32741324e"
      },
      "outputs": [
        {
          "name": "stdout",
          "output_type": "stream",
          "text": [
            "[ 7.4  7.8  7.8 11.2  7.4  7.4  7.9  7.3  7.8  7.5  6.7  7.5  5.6  7.8\n",
            "  8.9  8.9  8.5  8.1  7.4  7.9  8.9  7.6  7.9  8.5  6.9  6.3  7.6  7.9\n",
            "  7.1  7.8  6.7  6.9  8.3  6.9  5.2  7.8  7.8  8.1  5.7  7.3  7.3  8.8\n",
            "  7.5  8.1  6.8  4.6  7.7  8.7  6.4  5.6  8.8  6.6  6.6  8.6  7.6  7.7\n",
            " 10.2  7.5  7.8  7.3  8.8  7.7  7.5  7.   7.2  7.2  7.5  6.6  9.3  8.\n",
            "  7.7  7.7  7.7  8.3  9.7  8.8  8.8  6.8  6.7  8.3  6.2  7.8  7.4  7.3\n",
            "  6.3  6.9  8.6  7.7  9.3  7.   7.9  8.6  8.6  7.7  5.   4.7  6.8  7.\n",
            "  7.6  8.1]\n",
            "[0.9978 0.9968 0.997  0.998  0.9978 0.9978 0.9964 0.9946 0.9968 0.9978\n",
            " 0.9959 0.9978 0.9943 0.9974 0.9986 0.9986 0.9969 0.9968 0.9974 0.9969\n",
            " 0.9968 0.9982 0.9966 0.9968 0.9968 0.9955 0.9962 0.9966 0.9972 0.9964\n",
            " 0.9958 0.9966 0.9966 0.9993 0.9957 0.9986 0.9975 0.9968 0.994  0.9978\n",
            " 0.9978 0.9976 0.9968 0.9968 0.9962 0.9934 0.997  0.9969 0.9958 0.9954\n",
            " 0.9971 0.9956 0.9955 0.997  0.9955 0.9978 0.9971 0.9983 0.9975 0.9962\n",
            " 0.998  0.9968 0.9968 0.9966 0.9962 0.9962 0.9968 0.9962 0.9969 0.9962\n",
            " 0.9967 0.9962 0.9961 0.9976 0.9984 0.9986 0.9986 0.9966 0.9958 0.9972\n",
            " 0.9958 0.9974 0.997  0.9969 0.9959 0.9961 0.9972 0.9966 0.9978 0.9978\n",
            " 0.9964 0.9972 0.9972 0.9966 0.9938 0.9932 0.9965 0.9963 0.9967 0.9972]\n"
          ]
        }
      ],
      "source": [
        "fa = df['fixed acidity'].values\n",
        "den = df['density'].values\n",
        "x=fa[:100]\n",
        "y=den[:100]\n",
        "print(x)\n",
        "print(y)"
      ]
    },
    {
      "cell_type": "markdown",
      "metadata": {
        "id": "9Vy3_Io89Uoe"
      },
      "source": [
        "Function to find mean of the input array"
      ]
    },
    {
      "cell_type": "code",
      "execution_count": null,
      "metadata": {
        "id": "pTIYys6pFmnP"
      },
      "outputs": [],
      "source": [
        "# mean\n",
        "def get_mean(arr):\n",
        "    return np.sum(arr)/len(arr)\n",
        "\n",
        "#mean_x=np.mean(x)\n",
        "#mean_y=np.mean(y)"
      ]
    },
    {
      "cell_type": "markdown",
      "metadata": {
        "id": "IL9bjVxu9jPK"
      },
      "source": [
        "Function to find the variance with the array and mean of the array as input"
      ]
    },
    {
      "cell_type": "code",
      "execution_count": null,
      "metadata": {
        "id": "5bbJc9kIGhoB"
      },
      "outputs": [],
      "source": [
        "# variance\n",
        "def get_variance(arr, mean):\n",
        "    return np.sum((arr-mean)**2)"
      ]
    },
    {
      "cell_type": "markdown",
      "metadata": {
        "id": "FqnocQZ89vEt"
      },
      "source": [
        "Calculate the covariance"
      ]
    },
    {
      "cell_type": "code",
      "execution_count": null,
      "metadata": {
        "id": "Q35E9z_2G3kH"
      },
      "outputs": [],
      "source": [
        "# covariance\n",
        "def get_covariance(arr_x, mean_x, arr_y, mean_y):\n",
        "    final_arr = (arr_x - mean_x)*(arr_y - mean_y)\n",
        "    return np.sum(final_arr)"
      ]
    },
    {
      "cell_type": "markdown",
      "metadata": {
        "id": "GoVQG3gW9zMJ"
      },
      "source": [
        "Calculate the parameters of the linear regression line"
      ]
    },
    {
      "cell_type": "code",
      "execution_count": null,
      "metadata": {
        "id": "HKKUHjjoHBAD"
      },
      "outputs": [],
      "source": [
        "# find coeff\n",
        "def get_coefficients(x, y):\n",
        "    x_mean = get_mean(x)\n",
        "    print(\"x__mean: \", x_mean)\n",
        "    y_mean = get_mean(y)\n",
        "    print(\"y_mean: \", y_mean)\n",
        "    cov=get_covariance(x, x_mean, y, y_mean)\n",
        "    print(\"Cov(x,y):\",cov)\n",
        "    var_x=get_variance(x, x_mean)\n",
        "    print('var(x):',var_x)\n",
        "    m = get_covariance(x, x_mean, y, y_mean)/get_variance(x, x_mean)\n",
        "    print(\"Slope is: \", m)\n",
        "    c = y_mean - x_mean*m\n",
        "    print(\"Intercept is: \", c)\n",
        "    return m, c\n",
        "\n"
      ]
    },
    {
      "cell_type": "markdown",
      "metadata": {
        "id": "RL-eJTNf98A9"
      },
      "source": [
        "Calculate the 'predicted output' with the help of the equation for linear regression and print the R^2 and RMSE values of the model"
      ]
    },
    {
      "cell_type": "code",
      "execution_count": null,
      "metadata": {
        "colab": {
          "base_uri": "https://localhost:8080/"
        },
        "id": "0sjBnUlPZZo9",
        "outputId": "7e3e21b3-2b94-4369-af62-31c58ec49b75"
      },
      "outputs": [
        {
          "name": "stdout",
          "output_type": "stream",
          "text": [
            "x__mean:  7.64375\n",
            "y_mean:  0.9968375\n",
            "Cov(x,y): 0.054768750000000276\n",
            "var(x): 85.276875\n",
            "Slope is:  0.0006422462127042094\n",
            "Intercept is:  0.9919283305116422\n",
            "Predicted: [0.9959102570304083, 0.9969378509707351, 0.9966809524856534, 0.9966167278643829, 0.9959744816516787, 0.9963598293793012, 0.9974516479408984, 0.9968736263494646, 0.9979012202897913, 0.9964240540005717, 0.9970020755920055, 0.9974516479408984, 0.9974516479408984, 0.9968736263494646, 0.9951395615751633, 0.994946887711352, 0.9962956047580308, 0.9964240540005717, 0.9968094017281942, 0.9971305248345463]\n",
            "R2 score of the model is:  0.24110279521613687\n",
            "MSE of the model is:  4.003263296051633e-07\n"
          ]
        }
      ],
      "source": [
        "# Regression Function\n",
        "def linear_regression(x_train, y_train, x_test, y_test):\n",
        "    prediction = []\n",
        "    m, c = get_coefficients(x_train, y_train)\n",
        "    for x in x_test:\n",
        "        y = m*x + c\n",
        "        prediction.append(y)\n",
        "    return prediction\n",
        "\n",
        "prediction1=linear_regression(x[:80], y[:80], x[80:], y[80:])\n",
        "print('Predicted:',prediction1)\n",
        "r2 = r2_score(prediction1, y[80:])\n",
        "mse = mean_squared_error(prediction1, y[80:])\n",
        "print(\"R2 score of the model is: \", r2)\n",
        "print(\"MSE of the model is: \", mse)\n",
        "\n",
        "    \n"
      ]
    },
    {
      "cell_type": "markdown",
      "metadata": {
        "id": "BxOMBvTUSB0v"
      },
      "source": [
        "Plot the scatter plot and the regression plot "
      ]
    },
    {
      "cell_type": "code",
      "execution_count": null,
      "metadata": {
        "colab": {
          "base_uri": "https://localhost:8080/",
          "height": 562
        },
        "id": "Mnn7hG1mZff9",
        "outputId": "68f2a3b3-789d-4872-ebf3-6d47698a2611"
      },
      "outputs": [
        {
          "name": "stdout",
          "output_type": "stream",
          "text": [
            "x__mean:  7.58\n",
            "y_mean:  0.996766\n",
            "Cov(x,y): 0.07906200000000022\n",
            "var(x): 112.47999999999999\n",
            "Slope is:  0.000702898293029874\n",
            "Intercept is:  0.9914380309388336\n"
          ]
        },
        {
          "data": {
            "image/png": "[encoded data removed]",
            "text/plain": [
              "<Figure size 1440x504 with 2 Axes>"
            ]
          },
          "metadata": {},
          "output_type": "display_data"
        }
      ],
      "source": [
        "# Visualize\n",
        "def plot_reg_line(x, y):\n",
        "    prediction = []\n",
        "    m, c = get_coefficients(x, y)\n",
        "    for x0 in range(1,100):\n",
        "        yhat = m*x0 + c\n",
        "        prediction.append(yhat)\n",
        "    \n",
        "    fig = plt.figure(figsize=(20,7))\n",
        "    plt.subplot(1,2,1)\n",
        "    sns.scatterplot(x=x, y=y)\n",
        "    plt.xlabel('X')\n",
        "    plt.ylabel('Y')\n",
        "    plt.title('Scatter Plot between X and Y')\n",
        "    \n",
        "    plt.subplot(1,2,2)\n",
        "    sns.scatterplot(x=x, y=y, color = 'blue')\n",
        "    sns.lineplot(x = [i for i in range(1, 100)], y = prediction, color='red')\n",
        "    plt.xlabel('X')\n",
        "    plt.ylabel('Y')\n",
        "    plt.title('Regression Plot')\n",
        "    plt.show()\n",
        "    \n",
        "plot_reg_line(x, y)"
      ]
    },
    {
      "cell_type": "markdown",
      "metadata": {
        "id": "aJ11N-uU_el_"
      },
      "source": [
        "Linear Regression using Scikit learn"
      ]
    },
    {
      "cell_type": "code",
      "execution_count": null,
      "metadata": {
        "id": "mWLMARtcdqka"
      },
      "outputs": [],
      "source": [
        "from sklearn.linear_model import LinearRegression\n",
        "\n",
        "df = pd.read_excel('winequality-red1.xlsx')\n",
        "fa = df['fixed acidity'].values\n",
        "den = df['density'].values\n",
        "x=fa[:100]\n",
        "y=den[:100]"
      ]
    },
    {
      "cell_type": "markdown",
      "metadata": {
        "id": "02QTSdc7As3D"
      },
      "source": [
        "Predict the output and print the parameters"
      ]
    },
    {
      "cell_type": "code",
      "execution_count": null,
      "metadata": {
        "colab": {
          "base_uri": "https://localhost:8080/"
        },
        "id": "1l2DWf0d_roR",
        "outputId": "418b2359-eff2-4a34-fb6b-9234639353f5"
      },
      "outputs": [
        {
          "output_type": "stream",
          "name": "stdout",
          "text": [
            "Predicted: [0.99591026 0.99693785 0.99668095 0.99661673 0.99597448 0.99635983\n",
            " 0.99745165 0.99687363 0.99790122 0.99642405 0.99700208 0.99745165\n",
            " 0.99745165 0.99687363 0.99513956 0.99494689 0.9962956  0.99642405\n",
            " 0.9968094  0.99713052]\n",
            "Slope is [0.00064225]\n",
            "Intercept is 0.9919283305116422\n"
          ]
        }
      ],
      "source": [
        "reg = LinearRegression()\n",
        "reg.fit(x[:80].reshape(-1, 1), y[:80])\n",
        "prediction = reg.predict(x[80:].reshape(-1, 1))\n",
        "print('Predicted:',prediction)\n",
        "print(\"Slope is\",reg.coef_)\n",
        "print(\"Intercept is\",reg.intercept_)"
      ]
    },
    {
      "cell_type": "markdown",
      "metadata": {
        "id": "ppp96oVzX_G1"
      },
      "source": [
        "Calculate the R^2 and MSE"
      ]
    },
    {
      "cell_type": "code",
      "execution_count": null,
      "metadata": {
        "colab": {
          "base_uri": "https://localhost:8080/"
        },
        "id": "9eJxLQUN_59X",
        "outputId": "f2085bfa-5b9e-44f2-885c-85bbf7fcc949"
      },
      "outputs": [
        {
          "output_type": "stream",
          "name": "stdout",
          "text": [
            "The R2 score of the model is:  0.24110279521613687\n",
            "The MSE score of the model is:  4.003263296051633e-07\n"
          ]
        }
      ],
      "source": [
        "r2 = r2_score(prediction, y[80:])\n",
        "mse = mean_squared_error(prediction, y[80:])\n",
        "print(\"The R2 score of the model is: \", r2)\n",
        "print(\"The MSE score of the model is: \", mse)"
      ]
    },
    {
      "cell_type": "markdown",
      "source": [
        "Prediction from range 1 to 100"
      ],
      "metadata": {
        "id": "i8F7OUt3rpYx"
      }
    },
    {
      "cell_type": "code",
      "execution_count": null,
      "metadata": {
        "colab": {
          "base_uri": "https://localhost:8080/"
        },
        "id": "aSgt5fVqABKN",
        "outputId": "d8513ee3-86dc-4045-be9e-671662784e56"
      },
      "outputs": [
        {
          "output_type": "stream",
          "name": "stdout",
          "text": [
            "Predicted: [0.99257058 0.99321282 0.99385507 0.99449732 0.99513956 0.99578181\n",
            " 0.99642405 0.9970663  0.99770855 0.99835079 0.99899304 0.99963529\n",
            " 1.00027753 1.00091978 1.00156202 1.00220427 1.00284652 1.00348876\n",
            " 1.00413101 1.00477325 1.0054155  1.00605775 1.00669999 1.00734224\n",
            " 1.00798449 1.00862673 1.00926898 1.00991122 1.01055347 1.01119572\n",
            " 1.01183796 1.01248021 1.01312246 1.0137647  1.01440695 1.01504919\n",
            " 1.01569144 1.01633369 1.01697593 1.01761818 1.01826043 1.01890267\n",
            " 1.01954492 1.02018716 1.02082941 1.02147166 1.0221139  1.02275615\n",
            " 1.02339839 1.02404064 1.02468289 1.02532513 1.02596738 1.02660963\n",
            " 1.02725187 1.02789412 1.02853636 1.02917861 1.02982086 1.0304631\n",
            " 1.03110535 1.0317476  1.03238984 1.03303209 1.03367433 1.03431658\n",
            " 1.03495883 1.03560107 1.03624332 1.03688557 1.03752781 1.03817006\n",
            " 1.0388123  1.03945455 1.0400968  1.04073904 1.04138129 1.04202354\n",
            " 1.04266578 1.04330803 1.04395027 1.04459252 1.04523477 1.04587701\n",
            " 1.04651926 1.0471615  1.04780375 1.048446   1.04908824 1.04973049\n",
            " 1.05037274 1.05101498 1.05165723 1.05229947 1.05294172 1.05358397\n",
            " 1.05422621 1.05486846 1.05551071]\n"
          ]
        }
      ],
      "source": [
        "prediction = reg.predict(np.array([i for i in range(1, 100)]).reshape(-1, 1))\n",
        "print('Predicted:',prediction)"
      ]
    },
    {
      "cell_type": "markdown",
      "metadata": {
        "id": "tivZYXt4cL_b"
      },
      "source": [
        "Plot the scatter plot and regression plot for visualization"
      ]
    },
    {
      "cell_type": "code",
      "execution_count": null,
      "metadata": {
        "colab": {
          "base_uri": "https://localhost:8080/",
          "height": 458
        },
        "id": "-ZcbiaufAXGO",
        "outputId": "fddcd648-60b3-4f08-d2b2-f469b8fd61fb"
      },
      "outputs": [
        {
          "output_type": "display_data",
          "data": {
            "text/plain": [
              "<Figure size 1440x504 with 2 Axes>"
            ],
            "image/png": "[encoded data removed]"
          },
          "metadata": {
            "needs_background": "light"
          }
        }
      ],
      "source": [
        "fig = plt.figure(figsize=(20,7))\n",
        "plt.subplot(1,2,1)\n",
        "sns.scatterplot(x=x, y=y)\n",
        "plt.xlabel('X')\n",
        "plt.ylabel('Y')\n",
        "plt.title('Scatter Plot between X and Y')\n",
        "\n",
        "plt.subplot(1,2,2)\n",
        "sns.scatterplot(x=x, y=y, color = 'green')\n",
        "sns.lineplot(x = [i for i in range(1, 100)], y = prediction, color='red')\n",
        "plt.xlabel('X')\n",
        "plt.ylabel('Y')\n",
        "plt.title('Regression Plot')\n",
        "plt.show()"
      ]
    }
  ],
  "metadata": {
    "colab": {
      "collapsed_sections": [],
      "provenance": []
    },
    "kernelspec": {
      "display_name": "Python 3",
      "name": "python3"
    },
    "language_info": {
      "name": "python"
    }
  },
  "nbformat": 4,
  "nbformat_minor": 0
}